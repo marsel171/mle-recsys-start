{
 "cells": [
  {
   "cell_type": "code",
   "execution_count": 2,
   "metadata": {},
   "outputs": [
    {
     "name": "stdout",
     "output_type": "stream",
     "text": [
      "{'recs': []}\n"
     ]
    }
   ],
   "source": [
    "# Задание 1 из 3\n",
    "# Дополните код скрипта и запустите его для получения ответа (в виде пока что пустого списка) от сервиса рекомендаций.\n",
    "\n",
    "import requests\n",
    "\n",
    "recommendations_url = \"http://127.0.0.1:8000/recommendations\"\n",
    "\n",
    "headers = {'Content-type': 'application/json', 'Accept': 'text/plain'}\n",
    "params = {\"user_id\": 0}\n",
    "\n",
    "resp = requests.post(recommendations_url, headers=headers, params=params)\n",
    "\n",
    "if resp.status_code == 200:\n",
    "    recs = resp.json()\n",
    "else:\n",
    "    recs = []\n",
    "    print(f\"status code: {resp.status_code}\")\n",
    "    \n",
    "print(recs)"
   ]
  },
  {
   "cell_type": "code",
   "execution_count": 12,
   "metadata": {},
   "outputs": [],
   "source": [
    "# Шаг 2. Подключение готовых рекомендаций\n",
    "\n",
    "# Добавим пользы в наш сервис. Для этого сделаем так, чтобы при его запуске загружались уже готовые рекомендации, \n",
    "# а затем и отдавались при вызове /recommendations. Для удобства основной инструментарий разместим в отдельном классе, \n",
    "# который приведён ниже в готовом виде:\n",
    "\n",
    "import logging as logger\n",
    "import pandas as pd\n",
    "\n",
    "class Recommendations:\n",
    "\n",
    "    def __init__(self):\n",
    "\n",
    "        self._recs = {\"personal\": None, \"default\": None}\n",
    "        self._stats = {\n",
    "            \"request_personal_count\": 0,\n",
    "            \"request_default_count\": 0,\n",
    "        }\n",
    "\n",
    "    def load(self, type, path, **kwargs):\n",
    "        \"\"\"\n",
    "        Загружает рекомендации из файла\n",
    "        \"\"\"\n",
    "\n",
    "        logger.info(f\"Loading recommendations, type: {type}\")\n",
    "        self._recs[type] = pd.read_parquet(path, **kwargs)\n",
    "        if type == \"personal\":\n",
    "            self._recs[type] = self._recs[type].set_index(\"user_id\")\n",
    "        logger.info(f\"Loaded\")\n",
    "\n",
    "    def get(self, user_id: int, k: int=100):\n",
    "        \"\"\"\n",
    "        Возвращает список рекомендаций для пользователя\n",
    "        \"\"\"\n",
    "        try:\n",
    "            recs = self._recs[\"personal\"].loc[user_id]\n",
    "            recs = recs[\"item_id\"].to_list()[:k]\n",
    "            self._stats[\"request_personal_count\"] += 1\n",
    "        except KeyError:\n",
    "            recs = self._recs[\"default\"]\n",
    "            recs = recs[\"item_id\"].to_list()[:k]\n",
    "            self._stats[\"request_default_count\"] += 1\n",
    "        except:\n",
    "            logger.error(\"No recommendations found\")\n",
    "            recs = []\n",
    "\n",
    "        return recs\n",
    "\n",
    "    def stats(self):\n",
    "\n",
    "        logger.info(\"Stats for recommendations\")\n",
    "        for name, value in self._stats.items():\n",
    "            logger.info(f\"{name:<30} {value} \")"
   ]
  },
  {
   "cell_type": "code",
   "execution_count": 13,
   "metadata": {},
   "outputs": [
    {
     "data": {
      "text/html": [
       "<div>\n",
       "<style scoped>\n",
       "    .dataframe tbody tr th:only-of-type {\n",
       "        vertical-align: middle;\n",
       "    }\n",
       "\n",
       "    .dataframe tbody tr th {\n",
       "        vertical-align: top;\n",
       "    }\n",
       "\n",
       "    .dataframe thead th {\n",
       "        text-align: right;\n",
       "    }\n",
       "</style>\n",
       "<table border=\"1\" class=\"dataframe\">\n",
       "  <thead>\n",
       "    <tr style=\"text-align: right;\">\n",
       "      <th></th>\n",
       "      <th>user_id</th>\n",
       "      <th>item_id</th>\n",
       "      <th>score</th>\n",
       "    </tr>\n",
       "  </thead>\n",
       "  <tbody>\n",
       "    <tr>\n",
       "      <th>0</th>\n",
       "      <td>1000000</td>\n",
       "      <td>1</td>\n",
       "      <td>0.933434</td>\n",
       "    </tr>\n",
       "    <tr>\n",
       "      <th>1</th>\n",
       "      <td>1000000</td>\n",
       "      <td>2</td>\n",
       "      <td>0.925806</td>\n",
       "    </tr>\n",
       "    <tr>\n",
       "      <th>2</th>\n",
       "      <td>1000000</td>\n",
       "      <td>3</td>\n",
       "      <td>0.920225</td>\n",
       "    </tr>\n",
       "    <tr>\n",
       "      <th>3</th>\n",
       "      <td>1000000</td>\n",
       "      <td>5</td>\n",
       "      <td>0.918026</td>\n",
       "    </tr>\n",
       "    <tr>\n",
       "      <th>4</th>\n",
       "      <td>1000000</td>\n",
       "      <td>6</td>\n",
       "      <td>0.916345</td>\n",
       "    </tr>\n",
       "  </tbody>\n",
       "</table>\n",
       "</div>"
      ],
      "text/plain": [
       "   user_id  item_id     score\n",
       "0  1000000        1  0.933434\n",
       "1  1000000        2  0.925806\n",
       "2  1000000        3  0.920225\n",
       "3  1000000        5  0.918026\n",
       "4  1000000        6  0.916345"
      ]
     },
     "execution_count": 13,
     "metadata": {},
     "output_type": "execute_result"
    }
   ],
   "source": [
    "content_recommendations = pd.read_parquet(\"./candidates/inference/content_recommendations.parquet\")\n",
    "content_recommendations.head()"
   ]
  },
  {
   "cell_type": "code",
   "execution_count": 19,
   "metadata": {},
   "outputs": [
    {
     "data": {
      "text/html": [
       "<div>\n",
       "<style scoped>\n",
       "    .dataframe tbody tr th:only-of-type {\n",
       "        vertical-align: middle;\n",
       "    }\n",
       "\n",
       "    .dataframe tbody tr th {\n",
       "        vertical-align: top;\n",
       "    }\n",
       "\n",
       "    .dataframe thead th {\n",
       "        text-align: right;\n",
       "    }\n",
       "</style>\n",
       "<table border=\"1\" class=\"dataframe\">\n",
       "  <thead>\n",
       "    <tr style=\"text-align: right;\">\n",
       "      <th></th>\n",
       "      <th>user_id</th>\n",
       "      <th>item_id</th>\n",
       "      <th>score</th>\n",
       "    </tr>\n",
       "  </thead>\n",
       "  <tbody>\n",
       "    <tr>\n",
       "      <th>0</th>\n",
       "      <td>1000000</td>\n",
       "      <td>3</td>\n",
       "      <td>0.990940</td>\n",
       "    </tr>\n",
       "    <tr>\n",
       "      <th>1</th>\n",
       "      <td>1000000</td>\n",
       "      <td>15881</td>\n",
       "      <td>0.896617</td>\n",
       "    </tr>\n",
       "    <tr>\n",
       "      <th>2</th>\n",
       "      <td>1000000</td>\n",
       "      <td>5</td>\n",
       "      <td>0.864405</td>\n",
       "    </tr>\n",
       "    <tr>\n",
       "      <th>3</th>\n",
       "      <td>1000000</td>\n",
       "      <td>6</td>\n",
       "      <td>0.822256</td>\n",
       "    </tr>\n",
       "    <tr>\n",
       "      <th>4</th>\n",
       "      <td>1000000</td>\n",
       "      <td>2</td>\n",
       "      <td>0.774098</td>\n",
       "    </tr>\n",
       "  </tbody>\n",
       "</table>\n",
       "</div>"
      ],
      "text/plain": [
       "   user_id  item_id     score\n",
       "0  1000000        3  0.990940\n",
       "1  1000000    15881  0.896617\n",
       "2  1000000        5  0.864405\n",
       "3  1000000        6  0.822256\n",
       "4  1000000        2  0.774098"
      ]
     },
     "execution_count": 19,
     "metadata": {},
     "output_type": "execute_result"
    }
   ],
   "source": [
    "als_recommendations = pd.read_parquet(\"./candidates/inference/als_recommendations.parquet\")\n",
    "als_recommendations.head()"
   ]
  },
  {
   "cell_type": "code",
   "execution_count": 21,
   "metadata": {},
   "outputs": [
    {
     "data": {
      "text/plain": [
       "[1, 2, 3, 5, 6]"
      ]
     },
     "execution_count": 21,
     "metadata": {},
     "output_type": "execute_result"
    }
   ],
   "source": [
    "# Задание 2 из 3\n",
    "# Дополните код и вызовите запущенный сервис рекомендаций, чтобы получить от него пустой (пока) список.\n",
    "\n",
    "rec_store = Recommendations()\n",
    "\n",
    "rec_store.load(\n",
    "    \"personal\",\n",
    "    \"./candidates/inference/als_recommendations.parquet\",\n",
    "    columns=[\"user_id\", \"item_id\", \"score\"],\n",
    ")\n",
    "rec_store.load(\n",
    "    \"default\",\n",
    "    \"./candidates/inference/content_recommendations.parquet\",\n",
    "    columns=[\"item_id\", \"score\"],\n",
    ")\n",
    "\n",
    "rec_store.get(user_id=100, k=5) "
   ]
  },
  {
   "cell_type": "code",
   "execution_count": 22,
   "metadata": {},
   "outputs": [
    {
     "data": {
      "text/plain": [
       "[1885, 10210, 2657, 5297, 6185]"
      ]
     },
     "execution_count": 22,
     "metadata": {},
     "output_type": "execute_result"
    }
   ],
   "source": [
    "rec_store.get(user_id=1049126, k=5)"
   ]
  },
  {
   "cell_type": "code",
   "execution_count": 25,
   "metadata": {},
   "outputs": [
    {
     "name": "stdout",
     "output_type": "stream",
     "text": [
      "{'recs': []}\n"
     ]
    }
   ],
   "source": [
    "import requests\n",
    "\n",
    "recommendations_url = \"http://127.0.0.1:8000\"\n",
    "\n",
    "headers = {'Content-type': 'application/json', 'Accept': 'text/plain'}\n",
    "params = {\"user_id\": 1353637, 'k': 3}\n",
    "\n",
    "resp = requests.post(recommendations_url + \"/recommendations\", headers=headers, params=params)\n",
    "if resp.status_code == 200:\n",
    "    recs = resp.json()\n",
    "else:\n",
    "    recs = []\n",
    "    print(f\"status code: {resp.status_code}\")\n",
    "    \n",
    "print(recs)"
   ]
  },
  {
   "cell_type": "code",
   "execution_count": null,
   "metadata": {},
   "outputs": [],
   "source": [
    "# Правильный ответ — {'recs': [28187230, 27161156, 5]}. \n",
    "# Это словарь со списком рекомендаций. Если у вас получилось другое значение, проверьте, что вы верно указали значения user_id и k."
   ]
  }
 ],
 "metadata": {
  "kernelspec": {
   "display_name": "base",
   "language": "python",
   "name": "python3"
  },
  "language_info": {
   "codemirror_mode": {
    "name": "ipython",
    "version": 3
   },
   "file_extension": ".py",
   "mimetype": "text/x-python",
   "name": "python",
   "nbconvert_exporter": "python",
   "pygments_lexer": "ipython3",
   "version": "3.12.2"
  }
 },
 "nbformat": 4,
 "nbformat_minor": 2
}
