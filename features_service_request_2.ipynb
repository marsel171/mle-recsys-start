{
 "cells": [
  {
   "cell_type": "code",
   "execution_count": 2,
   "metadata": {},
   "outputs": [
    {
     "name": "stdout",
     "output_type": "stream",
     "text": [
      "{'item_id_2': [480204, 51496, 93261], 'score': [0.9288203120231628, 0.9003310203552246, 0.8989368081092834]}\n"
     ]
    }
   ],
   "source": [
    "import requests\n",
    "\n",
    "features_store_url = \"http://127.0.0.1:8010\"\n",
    "\n",
    "headers = {'Content-type': 'application/json', 'Accept': 'text/plain'}\n",
    "params = {\"item_id\": 17245, \"k\": 3}\n",
    "\n",
    "resp = requests.post(features_store_url +\"/similar_items\", headers=headers, params=params)\n",
    "if resp.status_code == 200:\n",
    "    similar_items = resp.json()\n",
    "else:\n",
    "    similar_items = None\n",
    "    print(f\"status code: {resp.status_code}\")\n",
    "    \n",
    "print(similar_items)"
   ]
  },
  {
   "cell_type": "code",
   "execution_count": null,
   "metadata": {},
   "outputs": [],
   "source": []
  }
 ],
 "metadata": {
  "kernelspec": {
   "display_name": "base",
   "language": "python",
   "name": "python3"
  },
  "language_info": {
   "codemirror_mode": {
    "name": "ipython",
    "version": 3
   },
   "file_extension": ".py",
   "mimetype": "text/x-python",
   "name": "python",
   "nbconvert_exporter": "python",
   "pygments_lexer": "ipython3",
   "version": "3.12.2"
  }
 },
 "nbformat": 4,
 "nbformat_minor": 2
}
